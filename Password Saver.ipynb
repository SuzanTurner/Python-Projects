{
 "cells": [
  {
   "cell_type": "code",
   "execution_count": 11,
   "id": "7a861738-95d6-4f67-8ff5-2572332c9292",
   "metadata": {},
   "outputs": [],
   "source": [
    "from cryptography.fernet import Fernet"
   ]
  },
  {
   "cell_type": "code",
   "execution_count": 27,
   "id": "db18c44a-86e6-492f-ab37-b833ee4f2e3b",
   "metadata": {},
   "outputs": [
    {
     "name": "stdin",
     "output_type": "stream",
     "text": [
      " \n",
      "Would you like to store a new password or view previous passwords? (view/store) \n",
      "Press q to quit store\n",
      "Enter name of the account:  cyber secuirity\n",
      "Enter password:  cyber\n",
      " \n",
      "Would you like to store a new password or view previous passwords? (view/store) \n",
      "Press q to quit view\n"
     ]
    },
    {
     "name": "stdout",
     "output_type": "stream",
     "text": [
      "Name: facebook     Password: blablabla\n",
      "\n",
      "Name: google     Password: uniuniuni\n",
      "\n",
      "Name: lulu     Password: mall\n",
      "\n",
      "Name: data     Password: data\n",
      "\n",
      "Name: cyber secuirity     Password: cyber\n",
      "\n"
     ]
    },
    {
     "name": "stdin",
     "output_type": "stream",
     "text": [
      " \n",
      "Would you like to store a new password or view previous passwords? (view/store) \n",
      "Press q to quit q\n"
     ]
    }
   ],
   "source": [
    "def view():\n",
    "    with open('C:\\Yadh Documents\\passwords.txt', 'r') as f:\n",
    "        for line in f.readlines():\n",
    "            print(line)\n",
    "\n",
    "def store():\n",
    "    name = input(\"Enter name of the account: \")\n",
    "    p = input(\"Enter password: \")\n",
    "    # w mode always overwrites a file if content exists in that\n",
    "    with open('C:\\Yadh Documents\\passwords.txt', 'a') as f:\n",
    "        f.write(\"Name: \"+name + \"     \" + \"Password: \"+ p + \"\\n\")\n",
    "    \n",
    "while True:\n",
    "    mode = input(\" \\nWould you like to store a new password or view previous passwords? (view/store) \\nPress q to quit\").lower()\n",
    "    if (mode == \"view\"):\n",
    "        view()\n",
    "    if (mode == \"store\"):\n",
    "        store()\n",
    "    elif(mode == \"q\"):\n",
    "        break\n",
    "    else:\n",
    "        continue\n",
    "    \n",
    "    "
   ]
  },
  {
   "cell_type": "code",
   "execution_count": 9,
   "id": "9e8db1d8-912d-4725-90b5-00e2089a8e61",
   "metadata": {},
   "outputs": [
    {
     "name": "stdout",
     "output_type": "stream",
     "text": [
      "Defaulting to user installation because normal site-packages is not writeable\n",
      "Collecting cryptography\n",
      "  Downloading cryptography-42.0.8-cp39-abi3-win_amd64.whl.metadata (5.4 kB)\n",
      "Requirement already satisfied: cffi>=1.12 in c:\\users\\yadhnesh\\appdata\\roaming\\python\\python311\\site-packages (from cryptography) (1.16.0)\n",
      "Requirement already satisfied: pycparser in c:\\users\\yadhnesh\\appdata\\roaming\\python\\python311\\site-packages (from cffi>=1.12->cryptography) (2.22)\n",
      "Downloading cryptography-42.0.8-cp39-abi3-win_amd64.whl (2.9 MB)\n",
      "   ---------------------------------------- 0.0/2.9 MB ? eta -:--:--\n",
      "   ---------------------------------------- 0.0/2.9 MB ? eta -:--:--\n",
      "    --------------------------------------- 0.0/2.9 MB 653.6 kB/s eta 0:00:05\n",
      "   - -------------------------------------- 0.1/2.9 MB 1.1 MB/s eta 0:00:03\n",
      "   --- ------------------------------------ 0.2/2.9 MB 1.5 MB/s eta 0:00:02\n",
      "   --- ------------------------------------ 0.2/2.9 MB 1.3 MB/s eta 0:00:03\n",
      "   --- ------------------------------------ 0.2/2.9 MB 1.3 MB/s eta 0:00:03\n",
      "   ------- -------------------------------- 0.5/2.9 MB 1.9 MB/s eta 0:00:02\n",
      "   ------- -------------------------------- 0.6/2.9 MB 2.0 MB/s eta 0:00:02\n",
      "   ------- -------------------------------- 0.6/2.9 MB 1.6 MB/s eta 0:00:02\n",
      "   --------- ------------------------------ 0.7/2.9 MB 1.6 MB/s eta 0:00:02\n",
      "   ------------ --------------------------- 0.9/2.9 MB 2.0 MB/s eta 0:00:01\n",
      "   ------------ --------------------------- 0.9/2.9 MB 1.8 MB/s eta 0:00:02\n",
      "   ------------- -------------------------- 1.0/2.9 MB 1.8 MB/s eta 0:00:02\n",
      "   ------------- -------------------------- 1.0/2.9 MB 1.8 MB/s eta 0:00:02\n",
      "   ------------- -------------------------- 1.0/2.9 MB 1.8 MB/s eta 0:00:02\n",
      "   ------------- -------------------------- 1.0/2.9 MB 1.4 MB/s eta 0:00:02\n",
      "   ------------- -------------------------- 1.0/2.9 MB 1.4 MB/s eta 0:00:02\n",
      "   ------------- -------------------------- 1.0/2.9 MB 1.4 MB/s eta 0:00:02\n",
      "   ------------- -------------------------- 1.0/2.9 MB 1.2 MB/s eta 0:00:02\n",
      "   ------------- -------------------------- 1.0/2.9 MB 1.2 MB/s eta 0:00:02\n",
      "   ------------- -------------------------- 1.0/2.9 MB 1.2 MB/s eta 0:00:02\n",
      "   -------------- ------------------------- 1.1/2.9 MB 1.1 MB/s eta 0:00:02\n",
      "   -------------- ------------------------- 1.1/2.9 MB 1.1 MB/s eta 0:00:02\n",
      "   -------------- ------------------------- 1.1/2.9 MB 1.1 MB/s eta 0:00:02\n",
      "   -------------- ------------------------- 1.1/2.9 MB 1.1 MB/s eta 0:00:02\n",
      "   -------------- ------------------------- 1.1/2.9 MB 1.1 MB/s eta 0:00:02\n",
      "   -------------- ------------------------- 1.1/2.9 MB 1.1 MB/s eta 0:00:02\n",
      "   -------------- ------------------------- 1.1/2.9 MB 1.1 MB/s eta 0:00:02\n",
      "   -------------- ------------------------- 1.1/2.9 MB 1.1 MB/s eta 0:00:02\n",
      "   -------------- ------------------------- 1.1/2.9 MB 1.1 MB/s eta 0:00:02\n",
      "   ---------------- ----------------------- 1.2/2.9 MB 871.3 kB/s eta 0:00:02\n",
      "   ---------------- ----------------------- 1.2/2.9 MB 871.3 kB/s eta 0:00:02\n",
      "   ---------------- ----------------------- 1.2/2.9 MB 871.3 kB/s eta 0:00:02\n",
      "   ---------------- ----------------------- 1.2/2.9 MB 871.3 kB/s eta 0:00:02\n",
      "   ----------------- ---------------------- 1.2/2.9 MB 772.2 kB/s eta 0:00:03\n",
      "   ----------------- ---------------------- 1.2/2.9 MB 772.2 kB/s eta 0:00:03\n",
      "   ----------------- ---------------------- 1.2/2.9 MB 772.2 kB/s eta 0:00:03\n",
      "   ----------------- ---------------------- 1.2/2.9 MB 728.0 kB/s eta 0:00:03\n",
      "   ----------------- ---------------------- 1.3/2.9 MB 713.9 kB/s eta 0:00:03\n",
      "   ----------------- ---------------------- 1.3/2.9 MB 713.9 kB/s eta 0:00:03\n",
      "   ----------------- ---------------------- 1.3/2.9 MB 713.9 kB/s eta 0:00:03\n",
      "   ------------------ --------------------- 1.3/2.9 MB 693.1 kB/s eta 0:00:03\n",
      "   ------------------ --------------------- 1.3/2.9 MB 693.1 kB/s eta 0:00:03\n",
      "   ------------------ --------------------- 1.3/2.9 MB 693.1 kB/s eta 0:00:03\n",
      "   ------------------ --------------------- 1.3/2.9 MB 693.1 kB/s eta 0:00:03\n",
      "   ------------------ --------------------- 1.3/2.9 MB 693.1 kB/s eta 0:00:03\n",
      "   ------------------ --------------------- 1.3/2.9 MB 693.1 kB/s eta 0:00:03\n",
      "   ------------------- -------------------- 1.4/2.9 MB 636.5 kB/s eta 0:00:03\n",
      "   ------------------- -------------------- 1.4/2.9 MB 632.2 kB/s eta 0:00:03\n",
      "   ------------------- -------------------- 1.4/2.9 MB 632.2 kB/s eta 0:00:03\n",
      "   ------------------- -------------------- 1.4/2.9 MB 632.2 kB/s eta 0:00:03\n",
      "   ------------------- -------------------- 1.4/2.9 MB 632.2 kB/s eta 0:00:03\n",
      "   -------------------- ------------------- 1.4/2.9 MB 588.0 kB/s eta 0:00:03\n",
      "   -------------------- ------------------- 1.4/2.9 MB 588.0 kB/s eta 0:00:03\n",
      "   -------------------- ------------------- 1.5/2.9 MB 577.5 kB/s eta 0:00:03\n",
      "   -------------------- ------------------- 1.5/2.9 MB 577.5 kB/s eta 0:00:03\n",
      "   -------------------- ------------------- 1.5/2.9 MB 565.2 kB/s eta 0:00:03\n",
      "   --------------------- ------------------ 1.5/2.9 MB 566.7 kB/s eta 0:00:03\n",
      "   --------------------- ------------------ 1.5/2.9 MB 564.5 kB/s eta 0:00:03\n",
      "   --------------------- ------------------ 1.6/2.9 MB 576.8 kB/s eta 0:00:03\n",
      "   ---------------------- ----------------- 1.6/2.9 MB 573.8 kB/s eta 0:00:03\n",
      "   ---------------------- ----------------- 1.6/2.9 MB 572.1 kB/s eta 0:00:03\n",
      "   ----------------------- ---------------- 1.7/2.9 MB 577.0 kB/s eta 0:00:03\n",
      "   ------------------------ --------------- 1.8/2.9 MB 592.5 kB/s eta 0:00:02\n",
      "   ------------------------ --------------- 1.8/2.9 MB 590.2 kB/s eta 0:00:02\n",
      "   ------------------------- -------------- 1.9/2.9 MB 611.1 kB/s eta 0:00:02\n",
      "   ------------------------- -------------- 1.9/2.9 MB 611.1 kB/s eta 0:00:02\n",
      "   ------------------------- -------------- 1.9/2.9 MB 602.4 kB/s eta 0:00:02\n",
      "   --------------------------- ------------ 2.0/2.9 MB 623.1 kB/s eta 0:00:02\n",
      "   --------------------------- ------------ 2.0/2.9 MB 623.1 kB/s eta 0:00:02\n",
      "   --------------------------- ------------ 2.0/2.9 MB 623.1 kB/s eta 0:00:02\n",
      "   --------------------------- ------------ 2.0/2.9 MB 623.1 kB/s eta 0:00:02\n",
      "   --------------------------- ------------ 2.0/2.9 MB 600.2 kB/s eta 0:00:02\n",
      "   ---------------------------- ----------- 2.1/2.9 MB 601.3 kB/s eta 0:00:02\n",
      "   ----------------------------- ---------- 2.1/2.9 MB 613.9 kB/s eta 0:00:02\n",
      "   ------------------------------ --------- 2.2/2.9 MB 623.2 kB/s eta 0:00:02\n",
      "   ------------------------------- -------- 2.3/2.9 MB 638.0 kB/s eta 0:00:01\n",
      "   -------------------------------- ------- 2.4/2.9 MB 652.5 kB/s eta 0:00:01\n",
      "   ---------------------------------- ----- 2.5/2.9 MB 672.2 kB/s eta 0:00:01\n",
      "   ---------------------------------- ----- 2.5/2.9 MB 671.9 kB/s eta 0:00:01\n",
      "   ----------------------------------- ---- 2.6/2.9 MB 688.3 kB/s eta 0:00:01\n",
      "   ------------------------------------- -- 2.7/2.9 MB 707.0 kB/s eta 0:00:01\n",
      "   ------------------------------------- -- 2.7/2.9 MB 707.0 kB/s eta 0:00:01\n",
      "   -------------------------------------- - 2.8/2.9 MB 718.8 kB/s eta 0:00:01\n",
      "   ---------------------------------------  2.9/2.9 MB 731.1 kB/s eta 0:00:01\n",
      "   ---------------------------------------- 2.9/2.9 MB 730.3 kB/s eta 0:00:00\n",
      "Installing collected packages: cryptography\n",
      "Successfully installed cryptography-42.0.8\n"
     ]
    },
    {
     "name": "stderr",
     "output_type": "stream",
     "text": [
      "\n",
      "[notice] A new release of pip is available: 24.0 -> 24.1\n",
      "[notice] To update, run: python.exe -m pip install --upgrade pip\n"
     ]
    }
   ],
   "source": [
    "!pip install cryptography\n",
    "\n"
   ]
  },
  {
   "cell_type": "code",
   "execution_count": 26,
   "id": "e1e5818a-3e54-4c31-8ba3-d13474f5b47c",
   "metadata": {},
   "outputs": [],
   "source": []
  },
  {
   "cell_type": "code",
   "execution_count": null,
   "id": "1cf44062-c26f-4d65-a600-3b7f3aa343f0",
   "metadata": {},
   "outputs": [],
   "source": []
  }
 ],
 "metadata": {
  "kernelspec": {
   "display_name": "Python 3 (ipykernel)",
   "language": "python",
   "name": "python3"
  },
  "language_info": {
   "codemirror_mode": {
    "name": "ipython",
    "version": 3
   },
   "file_extension": ".py",
   "mimetype": "text/x-python",
   "name": "python",
   "nbconvert_exporter": "python",
   "pygments_lexer": "ipython3",
   "version": "3.11.9"
  }
 },
 "nbformat": 4,
 "nbformat_minor": 5
}
