{
 "cells": [
  {
   "cell_type": "code",
   "execution_count": 31,
   "id": "3a983989-4f25-4715-beeb-564f3d45a398",
   "metadata": {},
   "outputs": [],
   "source": [
    "import random\n",
    "import time"
   ]
  },
  {
   "cell_type": "code",
   "execution_count": 32,
   "id": "4602c150-3aec-46a1-8ff2-80b9b87d255c",
   "metadata": {},
   "outputs": [],
   "source": [
    "ops = [\"+\", \"-\", \"*\"]\n",
    "min = 3\n",
    "max = 12"
   ]
  },
  {
   "cell_type": "code",
   "execution_count": 38,
   "id": "a84e3cc4-1ca3-4aed-9dd5-9ac384d1fb98",
   "metadata": {},
   "outputs": [
    {
     "name": "stdin",
     "output_type": "stream",
     "text": [
      "Press Enter to start \n"
     ]
    },
    {
     "name": "stdout",
     "output_type": "stream",
     "text": [
      "-------------------\n"
     ]
    },
    {
     "name": "stdin",
     "output_type": "stream",
     "text": [
      "problem #1: 12 - 5 =  7\n",
      "problem #2: 7 - 8 =  -1\n",
      "problem #3: 3 + 6 =  9\n",
      "problem #4: 6 + 3 =  9\n",
      "problem #5: 9 - 6 =  3\n",
      "problem #6: 9 - 3 =  3\n",
      "problem #6: 9 - 3 =  6\n",
      "problem #7: 8 * 7 =  56\n",
      "problem #8: 7 + 5 =  12\n",
      "problem #9: 12 + 9 =  21\n",
      "problem #10: 8 + 8 =  16\n"
     ]
    },
    {
     "ename": "TypeError",
     "evalue": "can only concatenate str (not \"int\") to str",
     "output_type": "error",
     "traceback": [
      "\u001b[1;31m---------------------------------------------------------------------------\u001b[0m",
      "\u001b[1;31mTypeError\u001b[0m                                 Traceback (most recent call last)",
      "Cell \u001b[1;32mIn[38], line 29\u001b[0m\n\u001b[0;32m     27\u001b[0m end_time \u001b[38;5;241m=\u001b[39m time\u001b[38;5;241m.\u001b[39mtime()\n\u001b[0;32m     28\u001b[0m total_time \u001b[38;5;241m=\u001b[39m end_time \u001b[38;5;241m-\u001b[39m start_time\n\u001b[1;32m---> 29\u001b[0m \u001b[38;5;28mprint\u001b[39m(\u001b[38;5;124;43m\"\u001b[39;49m\u001b[38;5;124;43mNumber of mistakes are: \u001b[39;49m\u001b[38;5;124;43m\"\u001b[39;49m\u001b[38;5;241;43m+\u001b[39;49m\u001b[43m \u001b[49m\u001b[43mwrong\u001b[49m)\n\u001b[0;32m     30\u001b[0m \u001b[38;5;28;01mif\u001b[39;00m (wrong \u001b[38;5;241m==\u001b[39m\u001b[38;5;241m0\u001b[39m):\n\u001b[0;32m     31\u001b[0m     \u001b[38;5;28mprint\u001b[39m(\u001b[38;5;124m\"\u001b[39m\u001b[38;5;124mDamn!! \u001b[39m\u001b[38;5;124m\"\u001b[39m)\n",
      "\u001b[1;31mTypeError\u001b[0m: can only concatenate str (not \"int\") to str"
     ]
    }
   ],
   "source": [
    "total_problems = 10\n",
    "expr = \" \"\n",
    "wrong = 0\n",
    "def generate_problem():\n",
    "    left = random.randint(min, max)\n",
    "    mid = random.choice(ops)\n",
    "    right = random.randint(min, max)\n",
    "\n",
    "    expr = str(left) + \" \" + mid + \" \" + str(right)\n",
    "    ans = eval(expr)\n",
    "    return expr, ans\n",
    "\n",
    "expr, ans = generate_problem()\n",
    "\n",
    "input(\"Press Enter to start\")\n",
    "print(\"-------------------\")\n",
    "\n",
    "start_time = time.time()\n",
    "\n",
    "for i in range (total_problems):\n",
    "    expr, ans = generate_problem()\n",
    "    while True:\n",
    "        guess = input(\"problem #\"+str(i+1)+\": \"+ expr+ \" = \")\n",
    "        if guess == str(ans):\n",
    "            break\n",
    "        \n",
    "end_time = time.time()\n",
    "total_time = end_time - start_time\n",
    "print(\"Number of mistakes are: \"+ wrong)\n",
    "if (wrong ==0):\n",
    "    print(\"Damn!! \")\n",
    "print(\"You finished in \", total_time, \"seconds\")\n",
    "print(\"---------------------------\")"
   ]
  },
  {
   "cell_type": "code",
   "execution_count": null,
   "id": "18676ead-1552-4698-acd2-004ff63654f6",
   "metadata": {},
   "outputs": [],
   "source": []
  },
  {
   "cell_type": "code",
   "execution_count": null,
   "id": "d7eeadcc-4489-4f90-b9f1-f20dc381b913",
   "metadata": {},
   "outputs": [],
   "source": []
  }
 ],
 "metadata": {
  "kernelspec": {
   "display_name": "Python 3 (ipykernel)",
   "language": "python",
   "name": "python3"
  },
  "language_info": {
   "codemirror_mode": {
    "name": "ipython",
    "version": 3
   },
   "file_extension": ".py",
   "mimetype": "text/x-python",
   "name": "python",
   "nbconvert_exporter": "python",
   "pygments_lexer": "ipython3",
   "version": "3.11.9"
  }
 },
 "nbformat": 4,
 "nbformat_minor": 5
}
