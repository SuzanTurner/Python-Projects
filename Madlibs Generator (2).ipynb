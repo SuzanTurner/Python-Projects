{
 "cells": [
  {
   "cell_type": "markdown",
   "id": "563429b1-770c-4735-b345-4ccad479aff1",
   "metadata": {},
   "source": [
    "### Madlibs Generator\n"
   ]
  },
  {
   "cell_type": "code",
   "execution_count": 1,
   "id": "91514b1e-c009-4987-9109-500104e9be75",
   "metadata": {},
   "outputs": [],
   "source": [
    "import pathlib"
   ]
  },
  {
   "cell_type": "raw",
   "id": "bd7a80b6-667f-421a-ac04-a9fc0ca8ba78",
   "metadata": {},
   "source": []
  },
  {
   "cell_type": "code",
   "execution_count": 2,
   "id": "2f60a875-32ab-4fdf-8b0a-bb35845607bf",
   "metadata": {},
   "outputs": [
    {
     "name": "stdout",
     "output_type": "stream",
     "text": [
      "Once upon a time, in a <adjective> forest, there lived a <adjective> <animal>. This <animal> was known for its <adjective> <body part> and its love for <noun>. Every day, it would wander through the <noun> looking for <plural noun> to <verb>.\n",
      "\n",
      "One day, the <animal> stumbled upon a <adjective> <noun>. It was unlike anything it had ever seen before. Curious, the <animal> decided to <verb> the <noun>. To its surprise, the <noun> began to <verb> and <verb>.\n",
      "\n",
      "The <animal> quickly <verb> back to its <place> and told all the other animals about the <adjective> <noun>. From that day on, the <adjective> forest became known for its <adjective> <noun> and the <animal> became a hero for discovering it.\n",
      "\n",
      "And they all lived <adverb> ever after.\n"
     ]
    }
   ],
   "source": [
    "with open(r\"C:\\\\Users\\\\Yadhnesh\\\\OneDrive\\\\Desktop\\\\Story.txt\", \"r\") as f:\n",
    "    story = f.read()\n",
    "\n",
    "print(story)"
   ]
  },
  {
   "cell_type": "code",
   "execution_count": null,
   "id": "d8d5145e-96ed-4578-bf93-66a34e13b474",
   "metadata": {},
   "outputs": [
    {
     "name": "stdin",
     "output_type": "stream",
     "text": [
      "Enter a word for <verb>: playing\n",
      "Enter a word for <body part>: eye\n",
      "Enter a word for <animal>: donkey\n",
      "Enter a word for <adverb>: large\n"
     ]
    }
   ],
   "source": [
    "# enumerate gives access to positon as well as element \n",
    "words = set() #set is a python data stucture that stores only unique elements\n",
    "start_of_word = -1\n",
    "\n",
    "target_start = \"<\"\n",
    "target_end = \">\"\n",
    "\n",
    "for i, char in enumerate(story):\n",
    "    if char == target_start:\n",
    "        start_of_word = i\n",
    "\n",
    "    if char == target_end and start_of_word != -1:\n",
    "        word = story[start_of_word: i+1] # slice operator\n",
    "        words.add(word)\n",
    "        start_of_word = -1\n",
    "\n",
    "ans = {}\n",
    "\n",
    "for word in words:\n",
    "    answer = input(\"Enter a word for \"+ word + \":\")\n",
    "    ans[word] = answer\n",
    "\n",
    "for word in words:\n",
    "    story = story.replace(word, ans[word])\n",
    "\n",
    "print(\"\\n\", story)\n",
    "\n",
    "\n",
    "    \n",
    "    \n",
    "    "
   ]
  },
  {
   "cell_type": "code",
   "execution_count": null,
   "id": "43917cee-9fec-42c4-9367-04a126db3f1a",
   "metadata": {},
   "outputs": [],
   "source": []
  },
  {
   "cell_type": "code",
   "execution_count": null,
   "id": "b7b11e7e-0ab2-43c3-b560-c1c302ed3efe",
   "metadata": {},
   "outputs": [],
   "source": []
  },
  {
   "cell_type": "code",
   "execution_count": null,
   "id": "fc6171eb-4d45-444a-b768-956cc4654923",
   "metadata": {},
   "outputs": [],
   "source": []
  },
  {
   "cell_type": "code",
   "execution_count": null,
   "id": "4a707ad2-4bfc-4beb-918f-4dd1f5a3e9f2",
   "metadata": {},
   "outputs": [],
   "source": []
  },
  {
   "cell_type": "code",
   "execution_count": null,
   "id": "7854cd5d-d84f-4446-b3d3-6d848e64dfa2",
   "metadata": {},
   "outputs": [],
   "source": []
  }
 ],
 "metadata": {
  "kernelspec": {
   "display_name": "Python 3 (ipykernel)",
   "language": "python",
   "name": "python3"
  },
  "language_info": {
   "codemirror_mode": {
    "name": "ipython",
    "version": 3
   },
   "file_extension": ".py",
   "mimetype": "text/x-python",
   "name": "python",
   "nbconvert_exporter": "python",
   "pygments_lexer": "ipython3",
   "version": "3.11.9"
  }
 },
 "nbformat": 4,
 "nbformat_minor": 5
}
