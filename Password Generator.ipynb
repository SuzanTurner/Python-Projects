{
 "cells": [
  {
   "cell_type": "code",
   "execution_count": 2,
   "id": "b1f7e92e-b704-4956-a4a9-2728d2f7a1df",
   "metadata": {},
   "outputs": [
    {
     "name": "stdin",
     "output_type": "stream",
     "text": [
      "Enter the Length of the password 9\n",
      "Enter True if you want numbers in the password (and False otherwise) False\n",
      "Enter True if you want Characters in the password (and False otherwise) False\n"
     ]
    },
    {
     "name": "stdout",
     "output_type": "stream",
     "text": [
      "rtit\"oPp@\n"
     ]
    }
   ],
   "source": [
    "import random\n",
    "import string\n",
    "\n",
    "def gen(leng, num=True, splchar=True):\n",
    "    letters = string.ascii_letters\n",
    "    digits = string.digits\n",
    "    special = string.punctuation\n",
    "    chars = letters\n",
    "    if num:\n",
    "        chars += digits\n",
    "    if splchar:\n",
    "        chars += special\n",
    "\n",
    "    p = \"\"\n",
    "    m = False\n",
    "    hasno = False\n",
    "    hasspl = False\n",
    "\n",
    "    while not m or len(p) < leng:\n",
    "        newchar = random.choice(chars)\n",
    "        p += newchar\n",
    "        if newchar in digits:\n",
    "            hasno = True\n",
    "        elif newchar in special:\n",
    "            hasspl = True\n",
    "\n",
    "        m = True\n",
    "        if num:\n",
    "            m = hasno\n",
    "        if splchar:\n",
    "            m = m and hasspl\n",
    "    \n",
    "    # Ensure the length of the password is exactly 'leng'\n",
    "    p = p[:leng]\n",
    "    \n",
    "    return p\n",
    "\n",
    "l = int(input(\"Enter the Length of the password\"))\n",
    "hasno = input(\"Enter True if you want numbers in the password (y/n)\")\n",
    "hasspl = input(\"Enter True if you want Characters in the password (y/n)\")\n",
    "ps = gen(l,n,c)\n",
    "print(ps)"
   ]
  },
  {
   "cell_type": "code",
   "execution_count": null,
   "id": "ade188f6-fcda-4370-9925-2546dcc5637b",
   "metadata": {},
   "outputs": [],
   "source": [
    "\n",
    "\n"
   ]
  },
  {
   "cell_type": "code",
   "execution_count": null,
   "id": "4fe28bb2-c9c1-411a-a014-71ee9d86ef1e",
   "metadata": {},
   "outputs": [],
   "source": [
    "\n"
   ]
  },
  {
   "cell_type": "code",
   "execution_count": null,
   "id": "7520f2a1-e78d-40e5-9b58-519dadcbd8e5",
   "metadata": {},
   "outputs": [],
   "source": []
  }
 ],
 "metadata": {
  "kernelspec": {
   "display_name": "Python 3 (ipykernel)",
   "language": "python",
   "name": "python3"
  },
  "language_info": {
   "codemirror_mode": {
    "name": "ipython",
    "version": 3
   },
   "file_extension": ".py",
   "mimetype": "text/x-python",
   "name": "python",
   "nbconvert_exporter": "python",
   "pygments_lexer": "ipython3",
   "version": "3.11.9"
  }
 },
 "nbformat": 4,
 "nbformat_minor": 5
}
