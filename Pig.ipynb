{
 "cells": [
  {
   "cell_type": "markdown",
   "id": "8e3d55c5-d4a9-4272-99a6-ac5afa1fbda6",
   "metadata": {},
   "source": [
    "## Pig\n",
    "### A simple python game\n",
    "#### Instructions: \n",
    "##### Enter the number of players, make sure it is an integer value between 2 to 4. \n",
    "##### Each player gets a chance to generate a random number between 1 to 6. \n",
    "##### If you get a 1, the game ends. If you get a number greater than 1, it is added to your total score. \n",
    "##### The program will then ask if you want to continue playing, risking the chance of getting a 1 and losing your score.\n",
    "##### The player with the maximum cumulative score wins"
   ]
  },
  {
   "cell_type": "code",
   "execution_count": null,
   "id": "6ddc22a3-1493-44d6-a28d-7c37e3968e66",
   "metadata": {},
   "outputs": [],
   "source": [
    "import random"
   ]
  },
  {
   "cell_type": "code",
   "execution_count": 4,
   "id": "b9356798-28cc-42f4-b3a3-cc62b319b666",
   "metadata": {},
   "outputs": [],
   "source": [
    "import sys"
   ]
  },
  {
   "cell_type": "code",
   "execution_count": 44,
   "id": "e9b9ef66-b856-44e9-99fc-6f00906b448f",
   "metadata": {},
   "outputs": [
    {
     "name": "stdout",
     "output_type": "stream",
     "text": [
      "Lets start the gamble!\n"
     ]
    },
    {
     "name": "stdin",
     "output_type": "stream",
     "text": [
      "Enter the number of players (2-4) 4\n"
     ]
    },
    {
     "name": "stdout",
     "output_type": "stream",
     "text": [
      "Player  1  is playing\n",
      "You rolled:  3\n",
      "Score =  3\n"
     ]
    },
    {
     "name": "stdin",
     "output_type": "stream",
     "text": [
      "Continue playing? 4\n"
     ]
    },
    {
     "name": "stdout",
     "output_type": "stream",
     "text": [
      "You rolled:  2\n",
      "Score =  5\n"
     ]
    },
    {
     "name": "stdin",
     "output_type": "stream",
     "text": [
      "Continue playing? 4\n"
     ]
    },
    {
     "name": "stdout",
     "output_type": "stream",
     "text": [
      "You rolled:  6\n",
      "Score =  11\n"
     ]
    },
    {
     "name": "stdin",
     "output_type": "stream",
     "text": [
      "Continue playing? 4\n"
     ]
    },
    {
     "name": "stdout",
     "output_type": "stream",
     "text": [
      "You rolled:  4\n",
      "Score =  15\n"
     ]
    },
    {
     "name": "stdin",
     "output_type": "stream",
     "text": [
      "Continue playing? 4\n"
     ]
    },
    {
     "name": "stdout",
     "output_type": "stream",
     "text": [
      "You rolled:  1\n",
      "Score =  16\n",
      "Game Over\n",
      "Score 0\n",
      "Player  1  has finished\n",
      "\n",
      " \n",
      "      Next Player\n",
      "Player  2  is playing\n",
      "You rolled:  6\n",
      "Score =  6\n"
     ]
    },
    {
     "name": "stdin",
     "output_type": "stream",
     "text": [
      "Continue playing? 4\n"
     ]
    },
    {
     "name": "stdout",
     "output_type": "stream",
     "text": [
      "You rolled:  3\n",
      "Score =  9\n"
     ]
    },
    {
     "name": "stdin",
     "output_type": "stream",
     "text": [
      "Continue playing? 4\n"
     ]
    },
    {
     "name": "stdout",
     "output_type": "stream",
     "text": [
      "You rolled:  2\n",
      "Score =  11\n"
     ]
    },
    {
     "name": "stdin",
     "output_type": "stream",
     "text": [
      "Continue playing? 4\n"
     ]
    },
    {
     "name": "stdout",
     "output_type": "stream",
     "text": [
      "You rolled:  6\n",
      "Score =  17\n"
     ]
    },
    {
     "name": "stdin",
     "output_type": "stream",
     "text": [
      "Continue playing? 4\n"
     ]
    },
    {
     "name": "stdout",
     "output_type": "stream",
     "text": [
      "You rolled:  4\n",
      "Score =  21\n"
     ]
    },
    {
     "name": "stdin",
     "output_type": "stream",
     "text": [
      "Continue playing? 0\n"
     ]
    },
    {
     "name": "stdout",
     "output_type": "stream",
     "text": [
      "Game Over. Total Score is : 21\n",
      "Player  2  has finished\n",
      "\n",
      " \n",
      "      Next Player\n",
      "Player  3  is playing\n",
      "You rolled:  1\n",
      "Score =  1\n",
      "Game Over\n",
      "Score 0\n",
      "Player  3  has finished\n",
      "\n",
      " \n",
      "      Next Player\n",
      "Player  4  is playing\n",
      "You rolled:  3\n",
      "Score =  3\n"
     ]
    },
    {
     "name": "stdin",
     "output_type": "stream",
     "text": [
      "Continue playing? 5\n"
     ]
    },
    {
     "name": "stdout",
     "output_type": "stream",
     "text": [
      "You rolled:  3\n",
      "Score =  6\n"
     ]
    },
    {
     "name": "stdin",
     "output_type": "stream",
     "text": [
      "Continue playing? 5\n"
     ]
    },
    {
     "name": "stdout",
     "output_type": "stream",
     "text": [
      "You rolled:  2\n",
      "Score =  8\n"
     ]
    },
    {
     "name": "stdin",
     "output_type": "stream",
     "text": [
      "Continue playing? 0\n"
     ]
    },
    {
     "name": "stdout",
     "output_type": "stream",
     "text": [
      "Game Over. Total Score is : 8\n",
      "Player  4  has finished\n",
      "\n",
      " \n",
      "Winner is Score:  21 \n",
      "Scored by player  2\n",
      "End\n"
     ]
    }
   ],
   "source": [
    "print(\"Lets start the gamble!\")\n",
    "choice = 99\n",
    "max = 0\n",
    "players = int(input(\"Enter the number of players (2-4)\"))\n",
    "if (players > 4 or players <2):\n",
    "    print(\"invalid, try again\")\n",
    "else:\n",
    "    for i in range (2, players+2):\n",
    "        score = 0\n",
    "        print (\"Player \", i-1, \" is playing\")\n",
    "        choice = 99\n",
    "        while choice!=0:\n",
    "            roll = random.randint(1,6)\n",
    "            print(\"You rolled: \",roll )\n",
    "            score = score + roll\n",
    "            if score > max:\n",
    "                max = score\n",
    "                p = i-1\n",
    "            print(\"Score = \", score)\n",
    "            if roll == 1:\n",
    "                print(\"Game Over\")\n",
    "                print(\"Score 0\")\n",
    "                break\n",
    "            choice = int(input(\"Continue playing?\"))\n",
    "            if choice == 0:\n",
    "                print(\"Game Over. Total Score is :\", score)\n",
    "        print(\"Player \", i-1, \" has finished\")\n",
    "        if (i!= players+1):\n",
    "            print(\"\\n \\n      Next Player\")\n",
    "        else:\n",
    "            print(\"\\n \\nWinner is Score: \", max, \"\\nScored by player \", p)\n",
    "            print(\"End\")\n",
    "       "
   ]
  },
  {
   "cell_type": "code",
   "execution_count": null,
   "id": "e5321631-2f37-40fe-bb73-67ee25a16528",
   "metadata": {},
   "outputs": [],
   "source": []
  },
  {
   "cell_type": "code",
   "execution_count": null,
   "id": "1efdada3-3eea-4822-9631-5d187379d329",
   "metadata": {},
   "outputs": [],
   "source": []
  }
 ],
 "metadata": {
  "kernelspec": {
   "display_name": "Python 3 (ipykernel)",
   "language": "python",
   "name": "python3"
  },
  "language_info": {
   "codemirror_mode": {
    "name": "ipython",
    "version": 3
   },
   "file_extension": ".py",
   "mimetype": "text/x-python",
   "name": "python",
   "nbconvert_exporter": "python",
   "pygments_lexer": "ipython3",
   "version": "3.11.9"
  }
 },
 "nbformat": 4,
 "nbformat_minor": 5
}
