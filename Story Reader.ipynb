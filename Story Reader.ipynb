{
 "cells": [
  {
   "cell_type": "code",
   "execution_count": 19,
   "id": "e7157c68-9a35-4463-a8ef-a739eed276ee",
   "metadata": {},
   "outputs": [],
   "source": [
    "with open(r'C:\\Users\\Yadhnesh\\Dropbox\\PC\\Downloads\\sample.txt') as file:\n",
    "    content = file.read() \n"
   ]
  },
  {
   "cell_type": "code",
   "execution_count": 27,
   "id": "ede00ee0-da72-45d8-ac72-98016bcbe273",
   "metadata": {},
   "outputs": [],
   "source": [
    "import pyttsx3\n",
    "engine = pyttsx3.init()\n",
    "engine.say(content)\n",
    "engine.runAndWait()"
   ]
  },
  {
   "cell_type": "code",
   "execution_count": 22,
   "id": "552787ae-ae90-49ad-9298-97a70c755fbf",
   "metadata": {},
   "outputs": [],
   "source": [
    "s = \"I love you little dummy\""
   ]
  },
  {
   "cell_type": "code",
   "execution_count": null,
   "id": "6b39a006-5d4e-4bb3-9db8-40595e3b84b7",
   "metadata": {},
   "outputs": [],
   "source": []
  },
  {
   "cell_type": "code",
   "execution_count": null,
   "id": "a5bc75eb-6efb-44b8-b459-0e428c9050d2",
   "metadata": {},
   "outputs": [],
   "source": []
  }
 ],
 "metadata": {
  "kernelspec": {
   "display_name": "Python 3 (ipykernel)",
   "language": "python",
   "name": "python3"
  },
  "language_info": {
   "codemirror_mode": {
    "name": "ipython",
    "version": 3
   },
   "file_extension": ".py",
   "mimetype": "text/x-python",
   "name": "python",
   "nbconvert_exporter": "python",
   "pygments_lexer": "ipython3",
   "version": "3.11.9"
  }
 },
 "nbformat": 4,
 "nbformat_minor": 5
}
