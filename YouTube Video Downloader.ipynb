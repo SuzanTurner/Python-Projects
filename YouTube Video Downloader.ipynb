{
 "cells": [
  {
   "cell_type": "code",
   "execution_count": 1,
   "id": "3819c3c4-902f-4607-96ec-094cb3c23b69",
   "metadata": {},
   "outputs": [
    {
     "name": "stdout",
     "output_type": "stream",
     "text": [
      "Defaulting to user installation because normal site-packages is not writeable\n",
      "Requirement already satisfied: pytube in c:\\users\\yadhnesh\\appdata\\roaming\\python\\python311\\site-packages (15.0.0)\n"
     ]
    }
   ],
   "source": [
    "!pip install pytube"
   ]
  },
  {
   "cell_type": "code",
   "execution_count": 2,
   "id": "2b693b24-2232-4703-a7d6-aaad1461362d",
   "metadata": {},
   "outputs": [],
   "source": [
    "from pytube import YouTube"
   ]
  },
  {
   "cell_type": "code",
   "execution_count": 3,
   "id": "d4669f58-c5fb-49fa-a39e-6d1384c73fbf",
   "metadata": {},
   "outputs": [],
   "source": [
    "import tkinter as tk\n",
    "from tkinter import filedialog"
   ]
  },
  {
   "cell_type": "code",
   "execution_count": null,
   "id": "9fed9dbf-cbfc-42c8-943d-840ab5f439da",
   "metadata": {},
   "outputs": [
    {
     "name": "stdin",
     "output_type": "stream",
     "text": [
      "Enter URL:  https://www.youtube.com/watch?v=sFMRqxCexDk\n"
     ]
    }
   ],
   "source": [
    "def download(url, save_path):\n",
    "    try:\n",
    "        yt = YouTube(url)\n",
    "        streams = yt.streams.filter(progressive=True, file_extension=\"mp4\")\n",
    "        highest_res = streams.get_highest_resolution()\n",
    "        highest_res.download(output_path=save_path)\n",
    "        print(\"Video downloaded successfully\")\n",
    "\n",
    "    except Exception as e:\n",
    "        print(e)\n",
    "\n",
    "def openfile():\n",
    "    folder = filedialog.askdirectory()\n",
    "    if folder:\n",
    "        print(f\"Selected Folder: {folder}\")\n",
    "    return folder\n",
    "\n",
    "if __name__ == \"__main__\":\n",
    "    root = tk.Tk()\n",
    "    root.withdraw()\n",
    "    video = input(\"Enter URL: \")\n",
    "    save_dir = openfile()\n",
    "    if not save_dir:\n",
    "        print(\"Select a folder...\")\n",
    "    else:\n",
    "        print(\"Started downloading ...\")\n",
    "        download(video, save_dir)"
   ]
  },
  {
   "cell_type": "code",
   "execution_count": null,
   "id": "adfd0682-e05d-436c-b700-f872c0d8a242",
   "metadata": {},
   "outputs": [],
   "source": []
  }
 ],
 "metadata": {
  "kernelspec": {
   "display_name": "Python 3 (ipykernel)",
   "language": "python",
   "name": "python3"
  },
  "language_info": {
   "codemirror_mode": {
    "name": "ipython",
    "version": 3
   },
   "file_extension": ".py",
   "mimetype": "text/x-python",
   "name": "python",
   "nbconvert_exporter": "python",
   "pygments_lexer": "ipython3",
   "version": "3.11.9"
  }
 },
 "nbformat": 4,
 "nbformat_minor": 5
}
