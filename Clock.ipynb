{
 "cells": [
  {
   "cell_type": "code",
   "execution_count": 1,
   "id": "15995751-7271-464f-9d03-2404e0d8b7c2",
   "metadata": {},
   "outputs": [],
   "source": [
    "import time"
   ]
  },
  {
   "cell_type": "code",
   "execution_count": 7,
   "id": "f038b874-9f77-4454-8b2f-bc25d4efcf18",
   "metadata": {},
   "outputs": [],
   "source": [
    "import tkinter \n"
   ]
  },
  {
   "cell_type": "code",
   "execution_count": 3,
   "id": "983fb315-7abe-4b6f-9e59-5dc0191ee9a8",
   "metadata": {},
   "outputs": [],
   "source": [
    "from tkinter.ttk import *"
   ]
  },
  {
   "cell_type": "code",
   "execution_count": 4,
   "id": "7a45df90-cd2c-4c1f-aa2e-997b32a11ea2",
   "metadata": {},
   "outputs": [],
   "source": [
    "from tkinter import *"
   ]
  },
  {
   "cell_type": "code",
   "execution_count": 5,
   "id": "a9eee9b6-54cd-4d9c-a943-23a0235bfde8",
   "metadata": {},
   "outputs": [],
   "source": [
    "from time import strftime"
   ]
  },
  {
   "cell_type": "code",
   "execution_count": 8,
   "id": "916b8b88-9c74-4a0d-bac1-394de00ff8ac",
   "metadata": {},
   "outputs": [],
   "source": [
    "root = Tk()\n",
    "root.title (\"Clock\")\n",
    "label = Label(root, font = (\"Helvetica\", 80), background = \"black\", foreground = \"cyan\")\n",
    "label.pack(anchor = 'center')"
   ]
  },
  {
   "cell_type": "code",
   "execution_count": 9,
   "id": "360f0f51-afd3-4718-8c49-bf078d27fbea",
   "metadata": {},
   "outputs": [],
   "source": [
    "def time():\n",
    "    string = strftime('%H : %M : %S : %p')\n",
    "    label.config(text = string)\n",
    "    label.after(1000, time)"
   ]
  },
  {
   "cell_type": "code",
   "execution_count": 10,
   "id": "6a162a5c-f836-421a-a9be-cf038a7f63f5",
   "metadata": {},
   "outputs": [],
   "source": [
    "time()\n",
    "mainloop()\n"
   ]
  },
  {
   "cell_type": "code",
   "execution_count": 11,
   "id": "1ac06703-f7dc-466a-8e40-b49ccede7753",
   "metadata": {},
   "outputs": [
    {
     "ename": "NameError",
     "evalue": "name 'main' is not defined",
     "output_type": "error",
     "traceback": [
      "\u001b[1;31m---------------------------------------------------------------------------\u001b[0m",
      "\u001b[1;31mNameError\u001b[0m                                 Traceback (most recent call last)",
      "Cell \u001b[1;32mIn[11], line 1\u001b[0m\n\u001b[1;32m----> 1\u001b[0m \u001b[43mmain\u001b[49m()\n",
      "\u001b[1;31mNameError\u001b[0m: name 'main' is not defined"
     ]
    }
   ],
   "source": []
  },
  {
   "cell_type": "code",
   "execution_count": null,
   "id": "44e95ad5-0d85-4b2c-afe6-5087ea1e1076",
   "metadata": {},
   "outputs": [],
   "source": []
  }
 ],
 "metadata": {
  "kernelspec": {
   "display_name": "Python 3 (ipykernel)",
   "language": "python",
   "name": "python3"
  },
  "language_info": {
   "codemirror_mode": {
    "name": "ipython",
    "version": 3
   },
   "file_extension": ".py",
   "mimetype": "text/x-python",
   "name": "python",
   "nbconvert_exporter": "python",
   "pygments_lexer": "ipython3",
   "version": "3.11.9"
  }
 },
 "nbformat": 4,
 "nbformat_minor": 5
}
