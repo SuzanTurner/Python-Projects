{
 "cells": [
  {
   "cell_type": "code",
   "execution_count": 1,
   "id": "3feeaa9e-7bf2-47ea-8775-b6fc9c37900f",
   "metadata": {},
   "outputs": [],
   "source": [
    "import random"
   ]
  },
  {
   "cell_type": "code",
   "execution_count": 10,
   "id": "91a18032-526f-4587-ae29-7d8c2155ed1b",
   "metadata": {},
   "outputs": [
    {
     "name": "stdin",
     "output_type": "stream",
     "text": [
      "Type Rock/Paper/Scissors \n",
      "Type q if you want to quit \n",
      " rock\n"
     ]
    },
    {
     "name": "stdout",
     "output_type": "stream",
     "text": [
      "Computer picked: scissor\n",
      "\n"
     ]
    },
    {
     "name": "stdin",
     "output_type": "stream",
     "text": [
      "Type Rock/Paper/Scissors \n",
      "Type q if you want to quit \n",
      " paper\n"
     ]
    },
    {
     "name": "stdout",
     "output_type": "stream",
     "text": [
      "Computer picked: paper\n",
      "\n"
     ]
    },
    {
     "name": "stdin",
     "output_type": "stream",
     "text": [
      "Type Rock/Paper/Scissors \n",
      "Type q if you want to quit \n",
      " paper\n"
     ]
    },
    {
     "name": "stdout",
     "output_type": "stream",
     "text": [
      "Computer picked: paper\n",
      "\n"
     ]
    },
    {
     "name": "stdin",
     "output_type": "stream",
     "text": [
      "Type Rock/Paper/Scissors \n",
      "Type q if you want to quit \n",
      " rock\n"
     ]
    },
    {
     "name": "stdout",
     "output_type": "stream",
     "text": [
      "Computer picked: rock\n",
      "\n"
     ]
    },
    {
     "name": "stdin",
     "output_type": "stream",
     "text": [
      "Type Rock/Paper/Scissors \n",
      "Type q if you want to quit \n",
      " q\n"
     ]
    },
    {
     "name": "stdout",
     "output_type": "stream",
     "text": [
      "\n",
      " \n",
      "Your score is:  1\n",
      "The computer's score is:  0\n",
      " \n",
      "You won\n"
     ]
    }
   ],
   "source": [
    "user = 0\n",
    "comp = 0\n",
    "\n",
    "options = [\"rock\", \"paper\", \"scissor\"]\n",
    "\n",
    "while True:\n",
    "    i = input(\"Type Rock/Paper/Scissors \\nType q if you want to quit \\nYou picked: \").lower()\n",
    "    if (i==\"q\"):\n",
    "        break\n",
    "\n",
    "    if i not in [\"rock\", \"paper\", \"scissor\"]:\n",
    "        print(\"Type correctly \\n\")\n",
    "        continue\n",
    "\n",
    "    r = random.randint(0,2)\n",
    "    # 0 is rock\n",
    "    # 1 is paper\n",
    "    # 2 is scissors\n",
    "    cpic = options[r]\n",
    "\n",
    "    print(\"Computer picked: \"+ cpic +\"\\n\")\n",
    "    if(i == \"rock\" and cpic == \"paper\"):\n",
    "        comp += 1\n",
    "    elif(i == \"paper\" and cpic == \"scissor\"):\n",
    "        comp += 1\n",
    "    elif(i == \"scissor\" and cpic == \"rock\"):\n",
    "        comp += 1\n",
    "    elif(i== cpic):\n",
    "        continue\n",
    "    else:\n",
    "        user += 1\n",
    "\n",
    "print(\"\\n \\nYour score is: \", user)\n",
    "print(\"The computer's score is: \", comp)\n",
    "if (user > comp):\n",
    "    print(\" \\nYou won\")\n",
    "elif (user < comp):\n",
    "    print(\"\\nComputer won\")\n",
    "else:\n",
    "    print(\"\\nIt's a tie\")\n",
    "\n",
    "    \n",
    "    "
   ]
  },
  {
   "cell_type": "code",
   "execution_count": null,
   "id": "8128d638-39f5-48a1-95f4-0b84b427e530",
   "metadata": {},
   "outputs": [],
   "source": []
  }
 ],
 "metadata": {
  "kernelspec": {
   "display_name": "Python 3 (ipykernel)",
   "language": "python",
   "name": "python3"
  },
  "language_info": {
   "codemirror_mode": {
    "name": "ipython",
    "version": 3
   },
   "file_extension": ".py",
   "mimetype": "text/x-python",
   "name": "python",
   "nbconvert_exporter": "python",
   "pygments_lexer": "ipython3",
   "version": "3.11.9"
  }
 },
 "nbformat": 4,
 "nbformat_minor": 5
}
