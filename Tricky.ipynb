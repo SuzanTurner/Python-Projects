{
 "cells": [
  {
   "cell_type": "markdown",
   "id": "a6a93880-7e50-4492-82ea-00ce6909bd10",
   "metadata": {},
   "source": [
    "### Addition without using + or -"
   ]
  },
  {
   "cell_type": "code",
   "execution_count": 14,
   "id": "bf64d11e-55aa-4d3f-8f33-a67cf21bcd0d",
   "metadata": {},
   "outputs": [
    {
     "name": "stdin",
     "output_type": "stream",
     "text": [
      "Enter a number  5\n",
      "Enter another number  90\n"
     ]
    },
    {
     "name": "stdout",
     "output_type": "stream",
     "text": [
      "Sum =  95\n"
     ]
    }
   ],
   "source": [
    "def add(x,y):\n",
    "    a = 1\n",
    "    b = 1\n",
    "    while (a>0):\n",
    "        a = x & y # carry from each bit\n",
    "        b = x ^ y #addition without carry\n",
    "        x = a << 1 #carry-in to each bit\n",
    "        y = b # sum\n",
    "    return b\n",
    "        \n",
    "a = int(input(\"Enter a number \"))\n",
    "b = int(input(\"Enter another number \"))\n",
    "print( \"Sum = \", add(a,b))\n",
    "    "
   ]
  },
  {
   "cell_type": "markdown",
   "id": "26d25530-0fb3-4106-bacc-3901d7a92228",
   "metadata": {},
   "source": [
    "### Generating numbers from 1 to n without loop"
   ]
  },
  {
   "cell_type": "code",
   "execution_count": 43,
   "id": "8ba4cc8f-e3e3-4745-842e-ede9d0772d27",
   "metadata": {},
   "outputs": [
    {
     "name": "stdin",
     "output_type": "stream",
     "text": [
      "enter a number 6\n"
     ]
    },
    {
     "name": "stdout",
     "output_type": "stream",
     "text": [
      "1\n",
      "2\n",
      "3\n",
      "4\n",
      "5\n",
      "6\n"
     ]
    }
   ],
   "source": [
    "def main(n,i):\n",
    "    if (n>0):\n",
    "        print(i)\n",
    "        main(n-1,i+1)\n",
    "num = int(input(\"enter a number\"))\n",
    "no = 1\n",
    "main(num,no)"
   ]
  },
  {
   "cell_type": "markdown",
   "id": "f5190d10-3678-4ebd-8dde-bcb6800144b1",
   "metadata": {},
   "source": [
    "### Swapping without third variable"
   ]
  },
  {
   "cell_type": "code",
   "execution_count": 45,
   "id": "108c407f-f97b-49d0-ad22-a276e94fad1f",
   "metadata": {},
   "outputs": [
    {
     "name": "stdin",
     "output_type": "stream",
     "text": [
      "Enter the first number 6\n",
      "Enter the second number 9\n"
     ]
    },
    {
     "name": "stdout",
     "output_type": "stream",
     "text": [
      "Swapped numbers are \n",
      "a: 9 \n",
      "b: 6\n"
     ]
    }
   ],
   "source": [
    "a = int(input(\"Enter the first number\"))\n",
    "b = int(input(\"Enter the second number\"))\n",
    "def swap(a,b):\n",
    "    a = a + b\n",
    "    b = a - b\n",
    "    a = a - b\n",
    "    print(\"Swapped numbers are \\na:\",a,\"\\nb:\",b)\n",
    "swap(a,b)"
   ]
  },
  {
   "cell_type": "markdown",
   "id": "58f36371-6e0c-4ed6-8b18-d63e4df64bf1",
   "metadata": {},
   "source": [
    "### Odd or Even without conditional statements"
   ]
  },
  {
   "cell_type": "code",
   "execution_count": 50,
   "id": "c3ea7732-2681-4d59-a7aa-a8bb2fcfadc4",
   "metadata": {},
   "outputs": [
    {
     "name": "stdin",
     "output_type": "stream",
     "text": [
      "Enter a number 0\n"
     ]
    },
    {
     "name": "stdout",
     "output_type": "stream",
     "text": [
      "Even\n"
     ]
    }
   ],
   "source": [
    "n = int(input(\"Enter a number\"))\n",
    "arr = [\"Even\", \"Odd\"]\n",
    "i = n % 2\n",
    "print(arr[i])\n",
    "    "
   ]
  },
  {
   "cell_type": "code",
   "execution_count": null,
   "id": "c2c9ded8-6270-4e2b-8f8a-1684e977b841",
   "metadata": {},
   "outputs": [],
   "source": []
  }
 ],
 "metadata": {
  "kernelspec": {
   "display_name": "Python 3 (ipykernel)",
   "language": "python",
   "name": "python3"
  },
  "language_info": {
   "codemirror_mode": {
    "name": "ipython",
    "version": 3
   },
   "file_extension": ".py",
   "mimetype": "text/x-python",
   "name": "python",
   "nbconvert_exporter": "python",
   "pygments_lexer": "ipython3",
   "version": "3.11.9"
  }
 },
 "nbformat": 4,
 "nbformat_minor": 5
}
